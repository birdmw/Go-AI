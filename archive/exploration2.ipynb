{
 "cells": [
  {
   "cell_type": "code",
   "execution_count": 77,
   "metadata": {
    "collapsed": false,
    "scrolled": true
   },
   "outputs": [
    {
     "ename": "SyntaxError",
     "evalue": "invalid syntax (<ipython-input-77-4ff0469045af>, line 301)",
     "output_type": "error",
     "traceback": [
      "\u001b[1;36m  File \u001b[1;32m\"<ipython-input-77-4ff0469045af>\"\u001b[1;36m, line \u001b[1;32m301\u001b[0m\n\u001b[1;33m    def\u001b[0m\n\u001b[1;37m        ^\u001b[0m\n\u001b[1;31mSyntaxError\u001b[0m\u001b[1;31m:\u001b[0m invalid syntax\n"
     ]
    }
   ],
   "source": [
    "from sklearn import linear_model, metrics\n",
    "from sklearn.cross_validation import train_test_split\n",
    "import cPickle as pickle\n",
    "from sklearn.metrics import accuracy_score\n",
    "from sklearn.metrics import roc_auc_score\n",
    "from sklearn.linear_model import LogisticRegression\n",
    "from sklearn.metrics import confusion_matrix\n",
    "from sklearn.ensemble import RandomForestClassifier\n",
    "from sklearn.ensemble import GradientBoostingClassifier\n",
    "from sklearn.ensemble import AdaBoostClassifier\n",
    "from sklearn.cross_validation import train_test_split\n",
    "from gomill import sgf, sgf_moves\n",
    "from gomill.ascii_boards import render_board\n",
    "from gomill.boards import Board\n",
    "from copy import deepcopy\n",
    "import pandas as pd\n",
    "import numpy as np\n",
    "from time import time\n",
    "import re\n",
    "from os import walk\n",
    "from os.path import splitext, join\n",
    "import matplotlib.pyplot as plt\n",
    "import resource\n",
    "from random import random\n",
    "\n",
    "properties = {'BR':'Black Rank', 'HA':'Handicap', 'KM':'Komi','RE':'Result', 'SZ':'Size', 'WR':'White Rank'}\n",
    "points = {}\n",
    "npboard_table = []\n",
    "for i in range(19):\n",
    "            for j in range(19):\n",
    "                points[(i, j)] = '0'\n",
    "universal_cols = sorted(properties.keys())+sorted(points.keys())\n",
    "print universal_cols[:40]\n",
    "\n",
    "def select_files(root, files):\n",
    "    \"\"\"\n",
    "    simple logic here to filter out interesting files\n",
    "    .py files in this example\n",
    "    \"\"\"\n",
    "    selected_files = []\n",
    "    for file in files:\n",
    "        full_path = join(root, file)\n",
    "        ext = splitext(file)[1]\n",
    "        if ext == \".sgf\":\n",
    "            selected_files.append(full_path)\n",
    "    return selected_files\n",
    "\n",
    "def build_recursive_dir_tree(path):\n",
    "    \"\"\"\n",
    "    path    -    where to begin folder scan\n",
    "    \"\"\"\n",
    "    selected_files = []\n",
    "\n",
    "    for root, dirs, files in walk(path):\n",
    "        selected_files += select_files(root, files)\n",
    "    return selected_files\n",
    "\n",
    "def get_properties(game_string, properties):\n",
    "    split_data = game_string.split(';')\n",
    "    game_info = split_data[1].strip()\n",
    "    game_data = np.char.strip( np.array(game_string[2:]), chars='\\n\\r\\t)')\n",
    "    prop_dict = {}\n",
    "    for k, v in properties.iteritems():\n",
    "        m = re.search(k+\"(\\[.+?\\])\", game_info)\n",
    "        if m is not None:\n",
    "                prop_dict[k] = m.groups()[0].strip(\"[]\")\n",
    "        else:\n",
    "            prop_dict[k] = ''\n",
    "    return prop_dict\n",
    "\n",
    "def build_game_data(a, b):\n",
    "    base_path = \"/home/birdmw/Desktop/final_project/\"\n",
    "    path_list = build_recursive_dir_tree(base_path)\n",
    "    for master_index in range(a,b):  \n",
    "        train = []\n",
    "        test = []\n",
    "        game_count = 1\n",
    "        fail_count = 0\n",
    "        for path in path_list:\n",
    "            if random()<=.2:\n",
    "                data_type = 'test'\n",
    "            else:\n",
    "                data_type = 'train'\n",
    "            with open(path) as p:\n",
    "                    try:\n",
    "                        if game_count%5000==0:\n",
    "                                print game_count, path\n",
    "                                print master_index\n",
    "                        game_string = p.read()\n",
    "                        game = sgf.Sgf_game.from_string(game_string)\n",
    "                        #=======data=========#\n",
    "                        props = get_properties(game_string, properties)\n",
    "                        #====================#\n",
    "                        props['SZ'] = game.get_size()\n",
    "                        if pd.isnull(props['SZ']):\n",
    "                            props['SZ'] = 19\n",
    "                        props['KM'] = game.get_komi()\n",
    "                        if pd.isnull(props['KM']):\n",
    "                            props['KM'] = 0.0\n",
    "                        props['HA'] = game.get_handicap()\n",
    "                        if pd.isnull(props['HA']):\n",
    "                            props['HA'] = 0.0\n",
    "                        props['RE'] = game.get_winner()\n",
    "                        if pd.isnull(props['RE']):\n",
    "                            props['RE'] = 'b' \n",
    "                        empty_board = Board(game.get_size())\n",
    "                        board = sgf_moves.get_setup_and_moves(game, empty_board)\n",
    "                        for move in board[1][:master_index]:\n",
    "                            colour, coords = move\n",
    "                            x, y = coords\n",
    "                            board[0].play(x,y,colour)\n",
    "                            board_points = deepcopy(points)\n",
    "                        h = []\n",
    "                        for moves in board[0].list_occupied_points():\n",
    "                            board_points[moves[1]] = moves[0]\n",
    "\n",
    "                        for c in universal_cols[:6]:\n",
    "                            h.append(props[c])\n",
    "                        for c in universal_cols[6:]:\n",
    "                            h.append(board_points[c])\n",
    "\n",
    "                        if data_type == 'train':\n",
    "                            train.append(h)\n",
    "                        else:  # data_type = 'test'\n",
    "                            test.append(h)\n",
    "\n",
    "                        game_count += 1\n",
    "                    except:\n",
    "                        print \"failed\", data_type, fail_count\n",
    "                        fail_count += 1\n",
    "        pickle.dump( train, open( \"trainmove\"+str(master_index)+\".pkl\", \"wb\" ) )\n",
    "        pickle.dump(  test, open( \"testmove\" +str(master_index)+\".pkl\", \"wb\" ) )\n",
    "        print \"Done!\", master_index\n",
    "    print \"===========COMPLETE===========\"\n",
    "\n",
    "\n",
    "def build_models(a, b): #XXXrename start and end\n",
    "    for move_number in range(a,b):\n",
    "        print \"building model for move number\", move_number,\"...\"\n",
    "\n",
    "        train = np.array( pickle.load( open( \"trainmove\"+str(move_number)+\".pkl\", \"rb\" ) ) )\n",
    "        test = np.array( pickle.load( open( \"testmove\"+str(move_number)+\".pkl\", \"rb\" ) ) )\n",
    "        columns = universal_cols[6:]\n",
    "        X_train = train[:,6:]\n",
    "        X_test = test[:,6:]\n",
    "        y_train = train[:,universal_cols.index('RE')]\n",
    "        y_test = test[:,universal_cols.index('RE')]\n",
    "\n",
    "        y_train[y_train=='w']=1.\n",
    "        y_train[y_train=='b']=0.\n",
    "        y_test[y_test=='w']=1.\n",
    "        y_test[y_test=='b']=0.\n",
    "\n",
    "        for row in X_train:\n",
    "            row[row=='w'] = 1.\n",
    "            row[row=='0'] = .5\n",
    "            row[row=='b'] = 0.\n",
    "            row = row.astype(float)\n",
    "\n",
    "        for row in X_test:\n",
    "            row[row=='w'] = 1.\n",
    "            row[row=='0'] = .5\n",
    "            row[row=='b'] = 0.\n",
    "            row = row.astype(float)\n",
    "\n",
    "        X_train=X_train.astype(float)\n",
    "        X_test=X_test.astype(float)\n",
    "\n",
    "        y_train=y_train.astype(float)\n",
    "        y_test=y_test.astype(float)\n",
    "\n",
    "        RFC = RandomForestClassifier(n_jobs=-1)\n",
    "        GBC = GradientBoostingClassifier()\n",
    "        LR = LogisticRegression()\n",
    "        ADA = AdaBoostClassifier()\n",
    "\n",
    "        RFC_model = RFC.fit(X_train, y_train)\n",
    "        print \"RFC fit\"\n",
    "        GBC_model = GBC.fit(X_train, y_train)\n",
    "        print \"GBC fit\"\n",
    "        LR_model = LR.fit(X_train, y_train)\n",
    "        print \"LR fit\"\n",
    "        ADA_model = ADA.fit(X_train, y_train)\n",
    "        print \"ADA fit\"\n",
    "\n",
    "        print \"===== models for\", move_number,\"COMPLETE =====\"\n",
    "\n",
    "        RFC_y_pred = RFC_model.predict(X_test)\n",
    "        GBC_y_pred = GBC_model.predict(X_test)\n",
    "        LR_y_pred = LR_model.predict(X_test)\n",
    "        ADA_y_pred = ADA_model.predict(X_test)\n",
    "\n",
    "        RFC_roc_auc = roc_auc_score(y_test, RFC_y_pred)\n",
    "        GBC_roc_auc = roc_auc_score(y_test, GBC_y_pred)\n",
    "        LR_roc_auc  = roc_auc_score(y_test, LR_y_pred)\n",
    "        ADA_roc_auc = roc_auc_score(y_test, ADA_y_pred)\n",
    "\n",
    "        print \"RandomForestClassifier roc_auc:\", RFC_roc_auc\n",
    "        print \"GradientBoostingClassifier roc_auc:\", GBC_roc_auc\n",
    "        print \"LogisticRegression roc_auc:\", LR_roc_auc\n",
    "        print \"AdaBoostClassifier roc_auc:\", ADA_roc_auc\n",
    "\n",
    "        roc_aucs = [RFC_roc_auc, GBC_roc_auc, LR_roc_auc, ADA_roc_auc]\n",
    "        models = [RFC_model, GBC_model, LR_model, ADA_model]\n",
    "\n",
    "        print \"pickling...\"\n",
    "        pickle.dump( roc_aucs, open( \"roc_auc\"+str(move_number)+\".pkl\", \"wb\" ) )\n",
    "        pickle.dump( models, open( \"models\"+str(move_number)+\".pkl\", \"wb\" ) )\n",
    "        print \"pickling complete\", move_number\n",
    "        \n",
    "def unpickle_models(a,b): #XXXstart end\n",
    "    print \"unpickling models\", a, \"to\", b\n",
    "    m = [0]*400\n",
    "    ra = [0]*400\n",
    "    for i in range(a,b):\n",
    "        m[i] = pickle.load( open( \"models\"+str(i+1)+\".pkl\", \"rb\" ) ) \n",
    "        ra[i] = pickle.load( open( \"roc_auc\"+str(i+1)+\".pkl\", \"rb\" ) )\n",
    "        print i # ix?\n",
    "    print \"unpickled\"\n",
    "    return m, ra\n",
    "\n",
    "def model_predict(npboard, move_number):\n",
    "    '''\n",
    "    takes an npboard array and a move number and returns the likelyhood of white winning\n",
    "    '''\n",
    "    a = []\n",
    "    for i in range(len(models[move_number])):\n",
    "        a.append(models[move_number][i].predict(npboard)[0])\n",
    "    predictions = np.array(a)\n",
    "    roc_auc_sum = np.sum( roc_auc[move_number] )\n",
    "    #print roc_auc_sum\n",
    "    auc_scaled = np.sum(predictions * roc_auc[move_number]) / (roc_auc_sum)\n",
    "    return auc_scaled\n",
    "\n",
    "def f(x): #XXX rename me\n",
    "    if x == 'w':\n",
    "        return 1.\n",
    "    elif x == 'b':\n",
    "        return 0.\n",
    "    else:\n",
    "        return .5\n",
    "\n",
    "def path_to_npboard(game_path = \"/home/birdmw/Desktop/final_project/pro_SGFs/1941/12/HayashiYutaro-MaedaNobuaki4362.sgf\", move_number=1):\n",
    "    columns = universal_cols[6:]\n",
    "    #print type(columns[0][0])\n",
    "    game_state = []\n",
    "    with open(game_path) as p:\n",
    "        game_string = p.read()\n",
    "        game = sgf.Sgf_game.from_string(game_string)\n",
    "        props = get_properties(game_string, properties)\n",
    "        props['SZ'] = game.get_size()\n",
    "        if pd.isnull(props['SZ']):\n",
    "            props['SZ'] = 19\n",
    "        props['KM'] = game.get_komi()\n",
    "        if pd.isnull(props['KM']):\n",
    "            props['KM'] = 0.0\n",
    "        props['HA'] = game.get_handicap()\n",
    "        if pd.isnull(props['HA']):\n",
    "            props['HA'] = 0.0\n",
    "        props['RE'] = game.get_winner()\n",
    "        if pd.isnull(props['RE']):\n",
    "            props['RE'] = 'b' \n",
    "        empty_board = Board(game.get_size())\n",
    "        board = sgf_moves.get_setup_and_moves(game, empty_board)\n",
    "        for move in board[1][:move_number]:\n",
    "            colour, coords = move\n",
    "            x, y = coords\n",
    "            board[0].play(x,y,colour)\n",
    "        board_points = points\n",
    "        h = []\n",
    "        for moves in board[0].list_occupied_points():\n",
    "            board_points[moves[1]] = moves[0]\n",
    "        for c in universal_cols[:6]:\n",
    "            h.append(props[c])\n",
    "        for c in universal_cols[6:]:\n",
    "            h.append(board_points[c])\n",
    "        game_state = np.array(h[6:])\n",
    "    v_f = np.vectorize(f)\n",
    "    npboard = v_f(game_state)\n",
    "    return npboard, move_number\n",
    "\n",
    "def npboard_to_stats_board(npboard, move_number=1):\n",
    "\n",
    "    stats_board_if_w_plays = [0.5]*361\n",
    "    stats_board_if_b_plays = [0.5]*361\n",
    "\n",
    "    columns = universal_cols[6:]\n",
    "    print columns[:40]\n",
    "\n",
    "    for i in range(len(npboard)):\n",
    "        if npboard[i] == .5:\n",
    "            npboard[i] = 1.\n",
    "            stats_board_if_w_plays[i] = model_predict(npboard, move_number+1)\n",
    "            npboard[i] = 0.\n",
    "            stats_board_if_b_plays[i] = model_predict(npboard, move_number+1)\n",
    "            npboard[i] = .5\n",
    "        else:\n",
    "            pass\n",
    "    return np.array(stats_board_if_b_plays), np.array(stats_board_if_w_plays)\n",
    "\n",
    "def \n",
    "\n"
   ]
  },
  {
   "cell_type": "code",
   "execution_count": null,
   "metadata": {
    "collapsed": false
   },
   "outputs": [
    {
     "name": "stdout",
     "output_type": "stream",
     "text": [
      "failed train 0\n",
      "5000 /home/birdmw/Desktop/final_project/ugo/kgs-19-2010-05-new/2010-05-12-20.sgf\n",
      "4\n",
      "failed test 1\n",
      "failed train 2\n",
      "failed train 3\n",
      "failed train 4\n",
      "failed train 5\n",
      "failed train 6\n",
      "failed test 7\n",
      "failed train 8\n",
      "failed train 9\n",
      "10000 /home/birdmw/Desktop/final_project/ugo/kgs-19-2012-05-new/2012-05-30-12.sgf\n",
      "4\n",
      "failed train 10\n",
      "15000 /home/birdmw/Desktop/final_project/ugo/KGS2004/2004-04-29-2.sgf\n",
      "4\n",
      "failed train 11\n",
      "20000 /home/birdmw/Desktop/final_project/ugo/KGS2004/2004-06-05-29.sgf\n",
      "4\n",
      "failed train 12\n",
      "failed train 13\n",
      "25000 /home/birdmw/Desktop/final_project/ugo/KGS2004/2004-10-13-10.sgf\n",
      "4\n",
      "failed train 14\n",
      "30000 /home/birdmw/Desktop/final_project/ugo/kgs-19-2009-05-new/2009-05-24-25.sgf\n",
      "4\n",
      "35000 /home/birdmw/Desktop/final_project/ugo/kgs-19-2014-03-new/2014-03-26-46.sgf\n",
      "4\n",
      "40000 /home/birdmw/Desktop/final_project/ugo/kgs-19-2010-02-new/2010-02-20-4.sgf\n",
      "4\n",
      "failed train 15\n",
      "failed test 16\n",
      "45000 /home/birdmw/Desktop/final_project/ugo/kgs-19-2014-01-new/2014-01-07-8.sgf\n",
      "4\n",
      "failed train 17\n",
      "failed train 18\n",
      "failed train 19\n",
      "failed test 20\n",
      "failed train 21\n",
      "failed test 22\n",
      "failed test 23\n",
      "50000 /home/birdmw/Desktop/final_project/ugo/kgs-19-2014-12-new/2014-12-22-3.sgf\n",
      "4\n",
      "failed train 24\n",
      "failed train 25\n",
      "55000 /home/birdmw/Desktop/final_project/ugo/kgs-19-2012-03-new/2012-03-16-25.sgf\n",
      "4\n",
      "failed train 26\n",
      "60000 /home/birdmw/Desktop/final_project/ugo/kgs-19-2011-07-new/2011-07-25-15.sgf\n",
      "4\n",
      "failed train 27\n",
      "65000 /home/birdmw/Desktop/final_project/ugo/kgs-19-2009-07-new/2009-07-31-39.sgf\n",
      "4\n",
      "70000 /home/birdmw/Desktop/final_project/ugo/kgs-19-2013-09-new/2013-09-11-35.sgf\n",
      "4\n",
      "failed train 28\n",
      "failed train 29\n",
      "75000 /home/birdmw/Desktop/final_project/ugo/kgs-19-2011-08-new/2011-08-30-32.sgf\n",
      "4\n",
      "failed train 30\n",
      "80000 /home/birdmw/Desktop/final_project/ugo/kgs-19-2008-08-new/2008-08-03-40.sgf\n",
      "4\n",
      "failed train 31\n",
      "failed train 32\n",
      "failed train 33\n",
      "failed train 34\n",
      "85000 /home/birdmw/Desktop/final_project/ugo/KGS2003/2003-09-29-11.sgf\n",
      "4\n",
      "90000 /home/birdmw/Desktop/final_project/ugo/kgs-19-2015-03-new/2015-03-21-28.sgf\n",
      "4\n",
      "failed test 35\n",
      "failed train 36\n",
      "95000 /home/birdmw/Desktop/final_project/ugo/kgs-19-2012-04-new/2012-04-28-30.sgf\n",
      "4\n",
      "failed train 37\n",
      "failed test 38\n",
      "100000 /home/birdmw/Desktop/final_project/ugo/kgs-19-2006/2006-08-13-17.sgf\n",
      "4\n",
      "105000 /home/birdmw/Desktop/final_project/ugo/kgs-19-2006/2006-03-23-3.sgf\n",
      "4\n",
      "failed train 39\n",
      "failed train 40\n",
      "110000 /home/birdmw/Desktop/final_project/ugo/KGS2002/2002-02-09-1.sgf\n",
      "4\n",
      "failed test 41\n",
      "115000 /home/birdmw/Desktop/final_project/ugo/kgs-19-2009-09-new/2009-09-23-2.sgf\n",
      "4\n",
      "failed train 42\n",
      "120000 /home/birdmw/Desktop/final_project/ugo/kgs-19-2009-11-new/2009-11-26-6.sgf\n",
      "4\n",
      "failed train 43\n",
      "failed train 44\n",
      "125000 /home/birdmw/Desktop/final_project/ugo/kgs-19-2011-12-new/2011-12-06-3.sgf\n",
      "4\n",
      "failed train 45\n",
      "130000 /home/birdmw/Desktop/final_project/ugo/kgs-19-2011-11-new/2011-11-26-8.sgf\n",
      "4\n",
      "failed train 46\n",
      "135000 /home/birdmw/Desktop/final_project/ugo/kgs-19-2012-06-new/2012-06-04-55.sgf\n",
      "4\n",
      "failed train 47\n",
      "failed train 48\n",
      "failed test 49\n",
      "failed train 50\n",
      "140000 /home/birdmw/Desktop/final_project/ugo/kgs-19-2008-06-new/2008-06-11-15.sgf\n",
      "4\n",
      "145000 /home/birdmw/Desktop/final_project/ugo/kgs-19-2013-04-new/2013-04-01-6.sgf\n",
      "4\n",
      "failed train 51\n",
      "failed train 52\n",
      "150000 /home/birdmw/Desktop/final_project/ugo/kgs-19-2007/2007-03-01-1.sgf\n",
      "4\n",
      "155000 /home/birdmw/Desktop/final_project/ugo/kgs-19-2007/2007-12-28-4.sgf\n",
      "4\n",
      "160000 /home/birdmw/Desktop/final_project/ugo/kgs-19-2013-01-new/2013-01-19-5.sgf\n",
      "4\n",
      "failed train 53\n",
      "165000 /home/birdmw/Desktop/final_project/ugo/KGS2005/2005-01-10-7.sgf\n",
      "4\n",
      "failed train 54\n",
      "170000 /home/birdmw/Desktop/final_project/ugo/KGS2005/2005-07-14-16.sgf\n",
      "4\n",
      "failed train 55\n",
      "failed train 56\n",
      "175000 /home/birdmw/Desktop/final_project/ugo/kgs-19-2014-09-new/2014-09-19-3.sgf\n",
      "4\n",
      "failed train 57\n",
      "failed train 58\n",
      "failed test 59\n",
      "180000 /home/birdmw/Desktop/final_project/pro_SGFs/1965/4/SakataEio-MiyashitaShuyo6809.sgf\n",
      "4\n",
      "185000 /home/birdmw/Desktop/final_project/pro_SGFs/2013/3/HaneNaoki-ItoYoji50602.sgf\n",
      "4\n",
      "190000 /home/birdmw/Desktop/final_project/pro_SGFs/2005/2/YunYeongseon-ParkShiun33201.sgf\n",
      "4\n",
      "failed test 60\n",
      "failed test 61\n",
      "195000 /home/birdmw/Desktop/final_project/pro_SGFs/1992/10/JeonYeongSeon-ChoDaeHyun16950.sgf\n",
      "4\n",
      "failed train 62\n",
      "failed train 63\n",
      "200000 /home/birdmw/Desktop/final_project/pro_SGFs/1927/4/KitaniMinoru-IwamotoKaoru2886.sgf\n",
      "4\n",
      "failed train 64\n",
      "failed test 65\n",
      "failed test 66\n",
      "failed train 67\n",
      "205000 /home/birdmw/Desktop/final_project/pro_SGFs/2007/6/MichaelRedmond-RinKaiho49362.sgf\n",
      "4\n",
      "failed train 68\n",
      "failed train 69\n",
      "failed train 70\n",
      "210000 /home/birdmw/Desktop/final_project/pro_SGFs/1982/6/KusunokiTeruko-KitaniToshimi11025.sgf\n",
      "4\n",
      "failed train 71\n",
      "failed train 72\n",
      "failed train 73\n",
      "215000 /home/birdmw/Desktop/final_project/pro_SGFs/1845/1/OtaYuzo-HoninboShuwa822.sgf\n",
      "4\n",
      "220000 /home/birdmw/Desktop/final_project/pro_SGFs/1983/10/KiyonariTetsuya-RinKaiho11173.sgf\n",
      "4\n",
      "failed"
     ]
    }
   ],
   "source": [
    "#build_game_data(4,10)"
   ]
  },
  {
   "cell_type": "code",
   "execution_count": 3,
   "metadata": {
    "collapsed": false
   },
   "outputs": [
    {
     "name": "stdout",
     "output_type": "stream",
     "text": [
      "building model for move number 1 ...\n",
      "RFC fit\n",
      "GBC fit\n",
      "LR fit\n",
      "ADA fit\n",
      "===== models for 1 COMPLETE =====\n",
      "RandomForestClassifier roc_auc: 0.505898844606\n",
      "GradientBoostingClassifier roc_auc: 0.505312910772\n",
      "LogisticRegression roc_auc: 0.504277173362\n",
      "AdaBoostClassifier roc_auc: 0.504444870227\n",
      "pickling...\n",
      "pickling complete 1\n",
      "building model for move number 2 ...\n",
      "RFC fit\n",
      "GBC fit\n",
      "LR fit\n",
      "ADA fit\n",
      "===== models for 2 COMPLETE =====\n",
      "RandomForestClassifier roc_auc: 0.515142658713\n",
      "GradientBoostingClassifier roc_auc: 0.507357478763\n",
      "LogisticRegression roc_auc: 0.514100787672\n",
      "AdaBoostClassifier roc_auc: 0.506591463673\n",
      "pickling...\n",
      "pickling complete 2\n"
     ]
    }
   ],
   "source": [
    "build_models(1,3)"
   ]
  },
  {
   "cell_type": "code",
   "execution_count": 4,
   "metadata": {
    "collapsed": false
   },
   "outputs": [
    {
     "name": "stdout",
     "output_type": "stream",
     "text": [
      "unpickling models 1 to 3\n",
      "1\n",
      "2\n",
      "unpickled\n"
     ]
    }
   ],
   "source": [
    "models, roc_auc = unpickle_models(1,3)"
   ]
  },
  {
   "cell_type": "code",
   "execution_count": 153,
   "metadata": {
    "collapsed": false
   },
   "outputs": [],
   "source": [
    "#print game_path_to_stats_board(move_count=1)"
   ]
  },
  {
   "cell_type": "code",
   "execution_count": 139,
   "metadata": {
    "collapsed": false
   },
   "outputs": [],
   "source": [
    "nb, mn = path_to_npboard()"
   ]
  },
  {
   "cell_type": "code",
   "execution_count": 140,
   "metadata": {
    "collapsed": false
   },
   "outputs": [
    {
     "name": "stdout",
     "output_type": "stream",
     "text": [
      "[ 0.5  0.5  0.5  0.5  0.5  0.5  0.5  0.5  0.5  0.5  0.5  0.5  0.5  0.5  0.5\n",
      "  0.5  0.5  0.5  0.5  0.5  0.5  0.5  0.5  0.5  0.5  0.5  0.5  0.5  0.5  0.5\n",
      "  0.5  0.5  0.5  0.5  0.5  0.5  0.5  0.5  0.5  0.5  0.5  0.5  0.5  0.5  0.5\n",
      "  0.5  0.5  0.5  0.5  0.5  0.5  0.5  0.5  0.5  0.5  0.5  0.5  0.5  0.5  0.5\n",
      "  0.   0.5  0.5  0.5  0.5  0.5  0.5  0.5  0.5  0.5  0.5  0.5  0.5  0.5  0.5\n",
      "  0.5  0.5  0.5  0.5  0.5  0.5  0.5  0.5  0.5  0.5  0.5  0.5  0.5  0.5  0.5\n",
      "  0.5  0.5  0.5  0.5  0.5  0.5  0.5  0.5  0.5  0.5  0.5  0.5  0.5  0.5  0.5\n",
      "  0.5  0.5  0.5  0.5  0.5  0.5  0.5  0.5  0.5  0.5  0.5  0.5  0.5  0.5  0.5\n",
      "  0.5  0.5  0.5  0.5  0.5  0.5  0.5  0.5  0.5  0.5  0.5  0.5  0.5  0.5  0.5\n",
      "  0.5  0.5  0.5  0.5  0.5  0.5  0.5  0.5  0.5  0.5  0.5  0.5  0.5  0.5  0.5\n",
      "  0.5  0.5  0.5  0.5  0.5  0.5  0.5  0.5  0.5  0.5  0.5  0.5  0.5  0.5  0.5\n",
      "  0.5  0.5  0.5  0.5  0.5  0.5  0.5  0.5  0.5  0.5  0.5  0.5  0.5  0.5  0.5\n",
      "  0.5  0.5  0.5  0.5  0.5  0.5  0.5  0.5  0.5  0.5  0.5  0.5  0.5  0.5  0.5\n",
      "  0.5  0.5  0.5  0.5  0.5  0.5  0.5  0.5  0.5  0.5  0.5  0.5  0.5  0.5  0.5\n",
      "  0.5  0.5  0.5  0.5  0.5  0.5  0.5  0.5  0.5  0.5  0.5  0.5  0.5  0.5  0.5\n",
      "  0.5  0.5  0.5  0.5  0.5  0.5  0.5  0.5  0.5  0.5  0.5  0.5  0.5  0.5  0.5\n",
      "  0.5  0.5  0.5  0.5  0.5  0.5  0.5  0.5  0.5  0.5  0.5  0.5  0.5  0.5  0.5\n",
      "  0.5  0.5  0.5  0.5  0.5  0.5  0.5  0.5  0.5  0.5  0.5  0.5  0.5  0.5  0.5\n",
      "  0.5  0.5  0.5  0.5  0.5  0.5  0.5  0.5  0.5  0.5  0.5  0.5  0.5  0.5  0.5\n",
      "  0.5  0.5  0.5  0.5  0.5  0.5  0.5  0.5  0.5  0.5  0.5  0.5  0.5  0.5  0.5\n",
      "  0.5  0.5  0.5  0.5  0.5  0.5  0.5  0.5  0.5  0.5  0.5  0.5  0.5  0.5  0.5\n",
      "  0.5  0.5  0.5  0.5  0.5  0.5  0.5  0.5  0.5  0.5  0.5  0.5  0.5  0.5  0.5\n",
      "  0.5  0.5  0.5  0.5  0.5  0.5  0.5  0.5  0.5  0.5  0.5  0.5  0.5  0.5  0.5\n",
      "  0.5  0.5  0.5  0.5  0.5  0.5  0.5  0.5  0.5  0.5  0.5  0.5  0.5  0.5  0.5\n",
      "  0.5]\n",
      "1\n"
     ]
    }
   ],
   "source": [
    "print nb\n",
    "print mn"
   ]
  },
  {
   "cell_type": "code",
   "execution_count": 141,
   "metadata": {
    "collapsed": false
   },
   "outputs": [
    {
     "name": "stdout",
     "output_type": "stream",
     "text": [
      "0.745403383292\n"
     ]
    }
   ],
   "source": [
    "x = model_predict(nb, mn+1)\n",
    "print x"
   ]
  },
  {
   "cell_type": "code",
   "execution_count": 142,
   "metadata": {
    "collapsed": false
   },
   "outputs": [
    {
     "name": "stdout",
     "output_type": "stream",
     "text": [
      "[(0, 0), (0, 1), (0, 2), (0, 3), (0, 4), (0, 5), (0, 6), (0, 7), (0, 8), (0, 9), (0, 10), (0, 11), (0, 12), (0, 13), (0, 14), (0, 15), (0, 16), (0, 17), (0, 18), (1, 0), (1, 1), (1, 2), (1, 3), (1, 4), (1, 5), (1, 6), (1, 7), (1, 8), (1, 9), (1, 10), (1, 11), (1, 12), (1, 13), (1, 14), (1, 15), (1, 16), (1, 17), (1, 18), (2, 0), (2, 1)]\n"
     ]
    }
   ],
   "source": [
    "statsb, statsw = npboard_to_stats_board(nb, mn)"
   ]
  },
  {
   "cell_type": "code",
   "execution_count": 152,
   "metadata": {
    "collapsed": false
   },
   "outputs": [
    {
     "data": {
      "text/plain": [
       "array([ 0.74540338,  0.74540338,  0.74540338,  0.74540338,  0.74540338,\n",
       "        0.74540338,  0.74540338,  0.74540338,  0.74540338,  0.74540338,\n",
       "        0.74540338,  0.74540338,  0.74540338,  0.74540338,  0.74540338,\n",
       "        0.74540338,  0.74540338,  0.74540338,  0.74540338,  0.74540338,\n",
       "        0.74540338,  0.74540338,  0.74540338,  0.74540338,  0.74540338,\n",
       "        0.74540338,  0.74540338,  0.74540338,  0.74540338,  0.74540338,\n",
       "        0.74540338,  0.74540338,  0.74540338,  0.74540338,  0.74540338,\n",
       "        0.74540338,  0.74540338,  0.74540338,  0.74540338,  0.74540338,\n",
       "        0.74540338,  0.74540338,  0.74540338,  1.        ,  0.74540338,\n",
       "        0.74540338,  0.74540338,  0.74540338,  0.74540338,  0.74540338,\n",
       "        0.74540338,  0.74540338,  0.74540338,  1.        ,  0.74540338,\n",
       "        0.74540338,  0.74540338,  0.74540338,  0.74540338,  0.74540338,\n",
       "        0.5       ,  0.74540338,  0.74540338,  0.74540338,  0.74540338,\n",
       "        0.74540338,  0.74540338,  0.74540338,  0.74540338,  0.74540338,\n",
       "        0.74540338,  0.74540338,  1.        ,  1.        ,  0.74540338,\n",
       "        0.74540338,  0.74540338,  0.74540338,  0.74540338,  0.74540338,\n",
       "        0.74540338,  0.74540338,  0.49671654,  0.74540338,  0.49671654,\n",
       "        0.74540338,  0.74540338,  0.49671654,  0.74540338,  0.74540338,\n",
       "        0.74540338,  1.        ,  0.74540338,  0.74540338,  0.74540338,\n",
       "        0.74540338,  0.74540338,  0.74540338,  1.        ,  0.74540338,\n",
       "        0.49671654,  0.74540338,  0.74540338,  0.74540338,  0.74540338,\n",
       "        0.49671654,  0.74540338,  0.74540338,  0.74540338,  0.74540338,\n",
       "        0.74540338,  0.74540338,  0.49671654,  0.74540338,  0.74540338,\n",
       "        0.74540338,  0.49671654,  0.74540338,  0.49671654,  0.74540338])"
      ]
     },
     "execution_count": 152,
     "metadata": {},
     "output_type": "execute_result"
    }
   ],
   "source": [
    "statsw[:120]"
   ]
  },
  {
   "cell_type": "code",
   "execution_count": 144,
   "metadata": {
    "collapsed": false
   },
   "outputs": [],
   "source": [
    "good_for_white_mask = (statsw == np.max(statsw)).round().astype(bool)\n",
    "good_for_black_mask = (statsb == np.min(statsb)).round().astype(bool)"
   ]
  },
  {
   "cell_type": "code",
   "execution_count": 190,
   "metadata": {
    "collapsed": false
   },
   "outputs": [
    {
     "name": "stdout",
     "output_type": "stream",
     "text": [
      "white moves: []\n",
      "black_moves: [[3 3]]\n"
     ]
    }
   ],
   "source": [
    "cols = np.array(universal_cols[6:])\n",
    "white_moves_mask = nb==1.\n",
    "black_moves_mask = nb==0.\n",
    "print \"white moves:\",cols[white_moves_mask]\n",
    "print \"black_moves:\",cols[black_moves_mask]"
   ]
  },
  {
   "cell_type": "code",
   "execution_count": 146,
   "metadata": {
    "collapsed": false
   },
   "outputs": [
    {
     "data": {
      "text/plain": [
       "array([[ 2,  5],\n",
       "       [ 2, 15],\n",
       "       [ 3, 15],\n",
       "       [ 3, 16],\n",
       "       [ 4, 15],\n",
       "       [ 5,  3],\n",
       "       [ 9, 15],\n",
       "       [13, 15],\n",
       "       [14, 16],\n",
       "       [15,  2],\n",
       "       [15,  3],\n",
       "       [15,  4],\n",
       "       [15, 13],\n",
       "       [15, 14],\n",
       "       [15, 15],\n",
       "       [15, 16],\n",
       "       [16,  3],\n",
       "       [16,  4]])"
      ]
     },
     "execution_count": 146,
     "metadata": {},
     "output_type": "execute_result"
    }
   ],
   "source": [
    "cols[good_for_white_mask]"
   ]
  },
  {
   "cell_type": "code",
   "execution_count": 187,
   "metadata": {
    "collapsed": false
   },
   "outputs": [
    {
     "data": {
      "text/plain": [
       "array([[2, 6]])"
      ]
     },
     "execution_count": 187,
     "metadata": {},
     "output_type": "execute_result"
    }
   ],
   "source": [
    "cols[good_for_black_mask]"
   ]
  },
  {
   "cell_type": "code",
   "execution_count": 188,
   "metadata": {
    "collapsed": false
   },
   "outputs": [
    {
     "name": "stdout",
     "output_type": "stream",
     "text": [
      "[ 0.5  0.5  0.5  0.5  0.5  0.5  0.5  0.5  0.5  0.5  0.5  0.5  0.5  0.5  0.5\n",
      "  0.5  0.5  0.5  0.5  0.5  0.5  0.5  0.5  0.5  0.5  0.5  0.5  0.5  0.5  0.5\n",
      "  0.5  0.5  0.5  0.5  0.5  0.5  0.5  0.5  0.5  0.5  0.5  0.5  0.5  0.5  0.5\n",
      "  0.5  0.5  0.5  0.5  0.5  0.5  0.5  0.5  0.5  0.5  0.5  0.5  0.5  0.5  0.5\n",
      "  0.   0.5  0.5  0.5  0.5  0.5  0.5  0.5  0.5  0.5  0.5  0.5  0.5  0.5  0.5\n",
      "  0.5  0.5  0.5  0.5  0.5  0.5  0.5  0.5  0.5  0.5  0.5  0.5  0.5  0.5  0.5\n",
      "  0.5  0.5  0.5  0.5  0.5  0.5  0.5  0.5  0.5  0.5  0.5  0.5  0.5  0.5  0.5\n",
      "  0.5  0.5  0.5  0.5  0.5  0.5  0.5  0.5  0.5  0.5  0.5  0.5  0.5  0.5  0.5\n",
      "  0.5  0.5  0.5  0.5  0.5  0.5  0.5  0.5  0.5  0.5  0.5  0.5  0.5  0.5  0.5\n",
      "  0.5  0.5  0.5  0.5  0.5  0.5  0.5  0.5  0.5  0.5  0.5  0.5  0.5  0.5  0.5\n",
      "  0.5  0.5  0.5  0.5  0.5  0.5  0.5  0.5  0.5  0.5  0.5  0.5  0.5  0.5  0.5\n",
      "  0.5  0.5  0.5  0.5  0.5  0.5  0.5  0.5  0.5  0.5  0.5  0.5  0.5  0.5  0.5\n",
      "  0.5  0.5  0.5  0.5  0.5  0.5  0.5  0.5  0.5  0.5  0.5  0.5  0.5  0.5  0.5\n",
      "  0.5  0.5  0.5  0.5  0.5  0.5  0.5  0.5  0.5  0.5  0.5  0.5  0.5  0.5  0.5\n",
      "  0.5  0.5  0.5  0.5  0.5  0.5  0.5  0.5  0.5  0.5  0.5  0.5  0.5  0.5  0.5\n",
      "  0.5  0.5  0.5  0.5  0.5  0.5  0.5  0.5  0.5  0.5  0.5  0.5  0.5  0.5  0.5\n",
      "  0.5  0.5  0.5  0.5  0.5  0.5  0.5  0.5  0.5  0.5  0.5  0.5  0.5  0.5  0.5\n",
      "  0.5  0.5  0.5  0.5  0.5  0.5  0.5  0.5  0.5  0.5  0.5  0.5  0.5  0.5  0.5\n",
      "  0.5  0.5  0.5  0.5  0.5  0.5  0.5  0.5  0.5  0.5  0.5  0.5  0.5  0.5  0.5\n",
      "  0.5  0.5  0.5  0.5  0.5  0.5  0.5  0.5  0.5  0.5  0.5  0.5  0.5  0.5  0.5\n",
      "  0.5  0.5  0.5  0.5  0.5  0.5  0.5  0.5  0.5  0.5  0.5  0.5  0.5  0.5  0.5\n",
      "  0.5  0.5  0.5  0.5  0.5  0.5  0.5  0.5  0.5  0.5  0.5  0.5  0.5  0.5  0.5\n",
      "  0.5  0.5  0.5  0.5  0.5  0.5  0.5  0.5  0.5  0.5  0.5  0.5  0.5  0.5  0.5\n",
      "  0.5  0.5  0.5  0.5  0.5  0.5  0.5  0.5  0.5  0.5  0.5  0.5  0.5  0.5  0.5\n",
      "  0.5]\n"
     ]
    }
   ],
   "source": [
    "print nb"
   ]
  },
  {
   "cell_type": "code",
   "execution_count": 186,
   "metadata": {
    "collapsed": false
   },
   "outputs": [
    {
     "name": "stdout",
     "output_type": "stream",
     "text": [
      "white moves: []\n",
      "black_moves: [[3 3]]\n"
     ]
    }
   ],
   "source": [
    "white_moves_mask = nb==1.\n",
    "black_moves_mask = nb==0.\n",
    "print \"white moves:\",cols[white_moves_mask]\n",
    "print \"black_moves:\",cols[black_moves_mask]"
   ]
  },
  {
   "cell_type": "code",
   "execution_count": 151,
   "metadata": {
    "collapsed": false
   },
   "outputs": [
    {
     "name": "stdout",
     "output_type": "stream",
     "text": [
      "[False False False False False False False False False False False False\n",
      " False False False False False False False False False False False False\n",
      " False False False False False False False False False False False False\n",
      " False False False False False False False  True False False False False\n",
      " False False False False False  True False False False False False False\n",
      " False False False False False False False False False False False False\n",
      "  True  True False False False False False False False False False False\n",
      " False False False False False False False  True False False False False\n",
      " False False  True False False False False False False False False False\n",
      " False False False False False False False False False False False False]\n"
     ]
    }
   ],
   "source": [
    "white_loc_mask = (statsw == np.max(statsw)).round().astype(bool)\n",
    "print white_loc_mask[:120]"
   ]
  },
  {
   "cell_type": "code",
   "execution_count": null,
   "metadata": {
    "collapsed": true
   },
   "outputs": [],
   "source": []
  }
 ],
 "metadata": {
  "kernelspec": {
   "display_name": "Python 2",
   "language": "python",
   "name": "python2"
  },
  "language_info": {
   "codemirror_mode": {
    "name": "ipython",
    "version": 2
   },
   "file_extension": ".py",
   "mimetype": "text/x-python",
   "name": "python",
   "nbconvert_exporter": "python",
   "pygments_lexer": "ipython2",
   "version": "2.7.10"
  }
 },
 "nbformat": 4,
 "nbformat_minor": 0
}
